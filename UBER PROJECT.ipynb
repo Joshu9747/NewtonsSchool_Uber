{
 "cells": [
  {
   "cell_type": "code",
   "execution_count": 1,
   "id": "fafed8fc",
   "metadata": {},
   "outputs": [],
   "source": [
    "!pip3 -q install numpy pandas matplotlib seaborn geopy folium datetime scipy sklearn tensorflow"
   ]
  },
  {
   "cell_type": "code",
   "execution_count": 2,
   "id": "b52d6b9c",
   "metadata": {},
   "outputs": [],
   "source": [
    "import pandas as pd\n",
    "df = pd.read_csv('uber-raw-data-aug14.csv')"
   ]
  },
  {
   "cell_type": "code",
   "execution_count": 3,
   "id": "3fe2c11b",
   "metadata": {},
   "outputs": [
    {
     "data": {
      "text/html": [
       "<div>\n",
       "<style scoped>\n",
       "    .dataframe tbody tr th:only-of-type {\n",
       "        vertical-align: middle;\n",
       "    }\n",
       "\n",
       "    .dataframe tbody tr th {\n",
       "        vertical-align: top;\n",
       "    }\n",
       "\n",
       "    .dataframe thead th {\n",
       "        text-align: right;\n",
       "    }\n",
       "</style>\n",
       "<table border=\"1\" class=\"dataframe\">\n",
       "  <thead>\n",
       "    <tr style=\"text-align: right;\">\n",
       "      <th></th>\n",
       "      <th>Date/Time</th>\n",
       "      <th>Lat</th>\n",
       "      <th>Lon</th>\n",
       "      <th>Base</th>\n",
       "    </tr>\n",
       "  </thead>\n",
       "  <tbody>\n",
       "    <tr>\n",
       "      <th>0</th>\n",
       "      <td>8/1/2014 0:03:00</td>\n",
       "      <td>40.7366</td>\n",
       "      <td>-73.9906</td>\n",
       "      <td>B02512</td>\n",
       "    </tr>\n",
       "    <tr>\n",
       "      <th>1</th>\n",
       "      <td>8/1/2014 0:09:00</td>\n",
       "      <td>40.7260</td>\n",
       "      <td>-73.9918</td>\n",
       "      <td>B02512</td>\n",
       "    </tr>\n",
       "    <tr>\n",
       "      <th>2</th>\n",
       "      <td>8/1/2014 0:12:00</td>\n",
       "      <td>40.7209</td>\n",
       "      <td>-74.0507</td>\n",
       "      <td>B02512</td>\n",
       "    </tr>\n",
       "    <tr>\n",
       "      <th>3</th>\n",
       "      <td>8/1/2014 0:12:00</td>\n",
       "      <td>40.7387</td>\n",
       "      <td>-73.9856</td>\n",
       "      <td>B02512</td>\n",
       "    </tr>\n",
       "    <tr>\n",
       "      <th>4</th>\n",
       "      <td>8/1/2014 0:12:00</td>\n",
       "      <td>40.7323</td>\n",
       "      <td>-74.0077</td>\n",
       "      <td>B02512</td>\n",
       "    </tr>\n",
       "    <tr>\n",
       "      <th>...</th>\n",
       "      <td>...</td>\n",
       "      <td>...</td>\n",
       "      <td>...</td>\n",
       "      <td>...</td>\n",
       "    </tr>\n",
       "    <tr>\n",
       "      <th>829270</th>\n",
       "      <td>8/31/2014 23:55:00</td>\n",
       "      <td>40.7552</td>\n",
       "      <td>-73.9753</td>\n",
       "      <td>B02764</td>\n",
       "    </tr>\n",
       "    <tr>\n",
       "      <th>829271</th>\n",
       "      <td>8/31/2014 23:55:00</td>\n",
       "      <td>40.7552</td>\n",
       "      <td>-73.9753</td>\n",
       "      <td>B02764</td>\n",
       "    </tr>\n",
       "    <tr>\n",
       "      <th>829272</th>\n",
       "      <td>8/31/2014 23:55:00</td>\n",
       "      <td>40.7617</td>\n",
       "      <td>-73.9788</td>\n",
       "      <td>B02764</td>\n",
       "    </tr>\n",
       "    <tr>\n",
       "      <th>829273</th>\n",
       "      <td>8/31/2014 23:59:00</td>\n",
       "      <td>40.7395</td>\n",
       "      <td>-73.9889</td>\n",
       "      <td>B02764</td>\n",
       "    </tr>\n",
       "    <tr>\n",
       "      <th>829274</th>\n",
       "      <td>8/31/2014 23:59:00</td>\n",
       "      <td>40.7270</td>\n",
       "      <td>-73.9802</td>\n",
       "      <td>B02764</td>\n",
       "    </tr>\n",
       "  </tbody>\n",
       "</table>\n",
       "<p>829275 rows × 4 columns</p>\n",
       "</div>"
      ],
      "text/plain": [
       "                 Date/Time      Lat      Lon    Base\n",
       "0         8/1/2014 0:03:00  40.7366 -73.9906  B02512\n",
       "1         8/1/2014 0:09:00  40.7260 -73.9918  B02512\n",
       "2         8/1/2014 0:12:00  40.7209 -74.0507  B02512\n",
       "3         8/1/2014 0:12:00  40.7387 -73.9856  B02512\n",
       "4         8/1/2014 0:12:00  40.7323 -74.0077  B02512\n",
       "...                    ...      ...      ...     ...\n",
       "829270  8/31/2014 23:55:00  40.7552 -73.9753  B02764\n",
       "829271  8/31/2014 23:55:00  40.7552 -73.9753  B02764\n",
       "829272  8/31/2014 23:55:00  40.7617 -73.9788  B02764\n",
       "829273  8/31/2014 23:59:00  40.7395 -73.9889  B02764\n",
       "829274  8/31/2014 23:59:00  40.7270 -73.9802  B02764\n",
       "\n",
       "[829275 rows x 4 columns]"
      ]
     },
     "metadata": {},
     "output_type": "display_data"
    }
   ],
   "source": [
    "display(df)"
   ]
  },
  {
   "cell_type": "code",
   "execution_count": 4,
   "id": "5b2b44a9",
   "metadata": {},
   "outputs": [
    {
     "name": "stdout",
     "output_type": "stream",
     "text": [
      "<class 'pandas.core.frame.DataFrame'>\n",
      "RangeIndex: 829275 entries, 0 to 829274\n",
      "Data columns (total 4 columns):\n",
      " #   Column     Non-Null Count   Dtype  \n",
      "---  ------     --------------   -----  \n",
      " 0   Date/Time  829275 non-null  object \n",
      " 1   Lat        829275 non-null  float64\n",
      " 2   Lon        829275 non-null  float64\n",
      " 3   Base       829275 non-null  object \n",
      "dtypes: float64(2), object(2)\n",
      "memory usage: 25.3+ MB\n"
     ]
    }
   ],
   "source": [
    "df.info()"
   ]
  },
  {
   "cell_type": "code",
   "execution_count": 5,
   "id": "2eded5eb",
   "metadata": {},
   "outputs": [
    {
     "data": {
      "text/html": [
       "<div>\n",
       "<style scoped>\n",
       "    .dataframe tbody tr th:only-of-type {\n",
       "        vertical-align: middle;\n",
       "    }\n",
       "\n",
       "    .dataframe tbody tr th {\n",
       "        vertical-align: top;\n",
       "    }\n",
       "\n",
       "    .dataframe thead th {\n",
       "        text-align: right;\n",
       "    }\n",
       "</style>\n",
       "<table border=\"1\" class=\"dataframe\">\n",
       "  <thead>\n",
       "    <tr style=\"text-align: right;\">\n",
       "      <th></th>\n",
       "      <th>Lat</th>\n",
       "      <th>Lon</th>\n",
       "    </tr>\n",
       "  </thead>\n",
       "  <tbody>\n",
       "    <tr>\n",
       "      <th>count</th>\n",
       "      <td>829275.000000</td>\n",
       "      <td>829275.000000</td>\n",
       "    </tr>\n",
       "    <tr>\n",
       "      <th>mean</th>\n",
       "      <td>40.737781</td>\n",
       "      <td>-73.970160</td>\n",
       "    </tr>\n",
       "    <tr>\n",
       "      <th>std</th>\n",
       "      <td>0.043628</td>\n",
       "      <td>0.061483</td>\n",
       "    </tr>\n",
       "    <tr>\n",
       "      <th>min</th>\n",
       "      <td>39.656900</td>\n",
       "      <td>-74.773700</td>\n",
       "    </tr>\n",
       "    <tr>\n",
       "      <th>25%</th>\n",
       "      <td>40.719000</td>\n",
       "      <td>-73.995800</td>\n",
       "    </tr>\n",
       "    <tr>\n",
       "      <th>50%</th>\n",
       "      <td>40.740700</td>\n",
       "      <td>-73.982600</td>\n",
       "    </tr>\n",
       "    <tr>\n",
       "      <th>75%</th>\n",
       "      <td>40.760500</td>\n",
       "      <td>-73.961200</td>\n",
       "    </tr>\n",
       "    <tr>\n",
       "      <th>max</th>\n",
       "      <td>41.318200</td>\n",
       "      <td>-72.335900</td>\n",
       "    </tr>\n",
       "  </tbody>\n",
       "</table>\n",
       "</div>"
      ],
      "text/plain": [
       "                 Lat            Lon\n",
       "count  829275.000000  829275.000000\n",
       "mean       40.737781     -73.970160\n",
       "std         0.043628       0.061483\n",
       "min        39.656900     -74.773700\n",
       "25%        40.719000     -73.995800\n",
       "50%        40.740700     -73.982600\n",
       "75%        40.760500     -73.961200\n",
       "max        41.318200     -72.335900"
      ]
     },
     "execution_count": 5,
     "metadata": {},
     "output_type": "execute_result"
    }
   ],
   "source": [
    "df.head()\n",
    "df.describe()"
   ]
  },
  {
   "cell_type": "code",
   "execution_count": 6,
   "id": "9bfe5d9f",
   "metadata": {},
   "outputs": [
    {
     "name": "stdout",
     "output_type": "stream",
     "text": [
      "<class 'str'>\n"
     ]
    }
   ],
   "source": [
    "print(type(df.loc[0, 'Date/Time']))"
   ]
  },
  {
   "cell_type": "code",
   "execution_count": 7,
   "id": "720eb825",
   "metadata": {},
   "outputs": [],
   "source": [
    "df['Date/Time'] = pd.to_datetime(df['Date/Time'])"
   ]
  },
  {
   "cell_type": "markdown",
   "id": "c7819388",
   "metadata": {},
   "source": [
    "Q1. On what date did we see the most number of Uber pickups?\n",
    "\n"
   ]
  },
  {
   "cell_type": "markdown",
   "id": "c77d1d0f",
   "metadata": {},
   "source": [
    "\n",
    "\n",
    "**Skill Test:** Grouping & Counting\n",
    "\n",
    "\n",
    "\n"
   ]
  },
  {
   "cell_type": "code",
   "execution_count": 10,
   "id": "d9ca2156",
   "metadata": {},
   "outputs": [
    {
     "name": "stdout",
     "output_type": "stream",
     "text": [
      "Date/Time\n",
      "2014-08-01    32353\n",
      "2014-08-02    28678\n",
      "2014-08-03    23146\n",
      "2014-08-04    24952\n",
      "2014-08-05    28094\n",
      "2014-08-06    30495\n",
      "2014-08-07    32759\n",
      "2014-08-08    30411\n",
      "2014-08-09    26286\n",
      "2014-08-10    20584\n",
      "2014-08-11    22632\n",
      "2014-08-12    29646\n",
      "2014-08-13    29788\n",
      "2014-08-14    30457\n",
      "2014-08-15    28974\n",
      "2014-08-16    26234\n",
      "2014-08-17    21209\n",
      "2014-08-18    21956\n",
      "2014-08-19    24834\n",
      "2014-08-20    27955\n",
      "2014-08-21    32304\n",
      "2014-08-22    29512\n",
      "2014-08-23    27097\n",
      "2014-08-24    22036\n",
      "2014-08-25    22093\n",
      "2014-08-26    24550\n",
      "2014-08-27    27018\n",
      "2014-08-28    28597\n",
      "2014-08-29    27424\n",
      "2014-08-30    23930\n",
      "2014-08-31    23271\n",
      "dtype: int64\n",
      "Date with most number of Uber pickups: 32759\n",
      "Value: 32759\n"
     ]
    }
   ],
   "source": [
    "# Convert the 'Date/Time' column to datetime format\n",
    "\n",
    "df['Date/Time'] = pd.to_datetime(df['Date/Time'])\n",
    "\n",
    "# Group by date and count the number of pickups\n",
    "\n",
    "pickup_counts = df.groupby(df['Date/Time'].dt.date).size()\n",
    "print(pickup_counts)\n",
    "\n",
    "# Find the date with the highest number of pickups\n",
    "\n",
    "result = pickup_counts.max()\n",
    "print(\"Date with most number of Uber pickups:\",result)\n",
    "date_with_higest_pickups = pickup_counts.max()\n",
    "print(\"Value:\",date_with_higest_pickups)"
   ]
  },
  {
   "cell_type": "markdown",
   "id": "80d647a4",
   "metadata": {},
   "source": [
    "Q.2 How many Uber pickups were made on the date with the highest number of pickups?\n",
    "\n",
    "**Skill Test:** Indexing and filtering\n"
   ]
  },
  {
   "cell_type": "code",
   "execution_count": 12,
   "id": "50ebe45a",
   "metadata": {},
   "outputs": [
    {
     "name": "stdout",
     "output_type": "stream",
     "text": [
      "Date with most number of Uber pickups: 2014-08-07\n",
      "Number of Uber pickups on the date with the higestnumber of pickups: 32759\n"
     ]
    }
   ],
   "source": [
    "# Filter the DataFrame to include only the rows for the date with the highest number of pickups\n",
    "\n",
    "result = pickup_counts.idxmax()\n",
    "print(\"Date with most number of Uber pickups:\",result)\n",
    "\n",
    "# Get the count of pickups on the highest date\n",
    "\n",
    "date_with_higest_pickups = pickup_counts.max()\n",
    "print(\"Number of Uber pickups on the date with the higestnumber of pickups:\",date_with_higest_pickups)\n"
   ]
  },
  {
   "cell_type": "markdown",
   "id": "821d3806",
   "metadata": {},
   "source": [
    "Q.3 How many unique TLC base companies are affiliated with the Uber pickups in the dataset?\n",
    "\n",
    "**Skill Test:** Counting unique values\n",
    "\n",
    "\n",
    "\n"
   ]
  },
  {
   "cell_type": "code",
   "execution_count": null,
   "id": "2f86c696",
   "metadata": {},
   "outputs": [],
   "source": [
    "# Count the number of unique TLC base companies\n",
    "unique_companies = df[]"
   ]
  }
 ],
 "metadata": {
  "kernelspec": {
   "display_name": "Python 3 (ipykernel)",
   "language": "python",
   "name": "python3"
  },
  "language_info": {
   "codemirror_mode": {
    "name": "ipython",
    "version": 3
   },
   "file_extension": ".py",
   "mimetype": "text/x-python",
   "name": "python",
   "nbconvert_exporter": "python",
   "pygments_lexer": "ipython3",
   "version": "3.10.9"
  }
 },
 "nbformat": 4,
 "nbformat_minor": 5
}
